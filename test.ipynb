{
 "cells": [
  {
   "cell_type": "code",
   "execution_count": 1,
   "metadata": {},
   "outputs": [],
   "source": [
    "import train\n",
    "import numpy as np\n",
    "import imageio\n",
    "import os\n",
    "import time\n",
    "import torch\n",
    "from torch.utils.data import DataLoader\n",
    "from torch.utils.data.distributed import DistributedSampler\n",
    "from data import set_up_data\n",
    "from utils import get_cpu_stats_over_ranks\n",
    "from train_helpers import set_up_hyperparams, load_vaes, load_opt, accumulate_stats, save_model, update_ema"
   ]
  },
  {
   "cell_type": "code",
   "execution_count": null,
   "metadata": {},
   "outputs": [],
   "source": [
    "train.main()"
   ]
  },
  {
   "cell_type": "code",
   "execution_count": 2,
   "metadata": {},
   "outputs": [],
   "source": [
    "def evaluate(H, ema_vae, data_valid, preprocess_fn, logprint):\n",
    "    stats_valid = []\n",
    "    valid_sampler = DistributedSampler(data_valid, num_replicas=H.mpi_size, rank=H.rank)\n",
    "\n",
    "    for x in DataLoader(data_valid, batch_size=H.n_batch, drop_last=True, pin_memory=True, sampler=valid_sampler):\n",
    "        data_input, target = preprocess_fn(x)\n",
    "        stats_valid.append(train.eval_step(data_input, target, ema_vae))\n",
    "\n",
    "    vals = [a['elbo'] for a in stats_valid]\n",
    "    finites = np.array(vals)[np.isfinite(vals)]\n",
    "    stats = dict(n_batches=len(vals), filtered_elbo=np.mean(finites), **{k: np.mean([a[k] for a in stats_valid]) for k in stats_valid[-1]})\n",
    "    return stats\n",
    "\n",
    "def run_test_eval(H, ema_vae, data_test, preprocess_fn, logprint):\n",
    "    \n",
    "    print('evaluating')\n",
    "    stats = evaluate(H, ema_vae, data_test, preprocess_fn, logprint)\n",
    "    print('test results')\n",
    "    for k in stats:\n",
    "        print(k, stats[k])\n",
    "    logprint(type='test_loss', **stats)"
   ]
  },
  {
   "cell_type": "code",
   "execution_count": null,
   "metadata": {},
   "outputs": [],
   "source": [
    "H, logprint = set_up_hyperparams()\n",
    "H, data_train, data_valid_or_test, preprocess_fn = set_up_data(H)\n",
    "\n",
    "H.test_eval=True\n",
    "H.restore_ema_path='cifar10-seed0-iter-900000-model-ema.th'\n",
    "vae, ema_vae = load_vaes(H, logprint)   # ema_vae maintains the exponential moving average of the params;\n",
    "\n",
    "\n",
    "if H.test_eval:\n",
    "\trun_test_eval(H, ema_vae, data_valid_or_test, preprocess_fn, logprint)\n",
    "else:\n",
    "\ttrain.train_loop(H, data_train, data_valid_or_test, preprocess_fn, vae, ema_vae, logprint)"
   ]
  },
  {
   "cell_type": "code",
   "execution_count": 9,
   "metadata": {},
   "outputs": [
    {
     "name": "stdout",
     "output_type": "stream",
     "text": [
      "time: Thu Dec 19 05:47:50 2024, message: printing samples to ./saved_models/test/samples-1.png\n"
     ]
    }
   ],
   "source": [
    "viz_batch_original, viz_batch_processed = train.get_sample_for_visualization(data_valid_or_test, preprocess_fn, H.num_images_visualize, H.dataset)\n",
    "train.write_images(H, ema_vae, viz_batch_original, viz_batch_processed, f'{H.save_dir}/samples-1.png', logprint)"
   ]
  },
  {
   "cell_type": "code",
   "execution_count": null,
   "metadata": {},
   "outputs": [],
   "source": []
  },
  {
   "cell_type": "code",
   "execution_count": 4,
   "metadata": {},
   "outputs": [
    {
     "ename": "ImportError",
     "evalue": "/home/mike_1102/miniconda3/envs/env02/lib/python3.11/site-packages/zmq/backend/cython/../../../../.././libstdc++.so.6: version `GLIBCXX_3.4.32' not found (required by /home/mike_1102/miniconda3/envs/env02/lib/python3.11/site-packages/amp_C.cpython-311-x86_64-linux-gnu.so)",
     "output_type": "error",
     "traceback": [
      "\u001b[0;31m---------------------------------------------------------------------------\u001b[0m",
      "\u001b[0;31mImportError\u001b[0m                               Traceback (most recent call last)",
      "Cell \u001b[0;32mIn[4], line 2\u001b[0m\n\u001b[1;32m      1\u001b[0m \u001b[38;5;28;01mimport\u001b[39;00m \u001b[38;5;21;01mtorch\u001b[39;00m\n\u001b[0;32m----> 2\u001b[0m \u001b[38;5;28;01mimport\u001b[39;00m \u001b[38;5;21;01mamp_C\u001b[39;00m\n",
      "\u001b[0;31mImportError\u001b[0m: /home/mike_1102/miniconda3/envs/env02/lib/python3.11/site-packages/zmq/backend/cython/../../../../.././libstdc++.so.6: version `GLIBCXX_3.4.32' not found (required by /home/mike_1102/miniconda3/envs/env02/lib/python3.11/site-packages/amp_C.cpython-311-x86_64-linux-gnu.so)"
     ]
    }
   ],
   "source": [
    "# debug script\n",
    "\n",
    "for i,(name,param) in enumerate(vae.named_parameters()):\n",
    "    print(name)\n",
    "    print(param[0])   \n",
    "    print(param.grad[0])\n",
    "    print(param.device)\n",
    "    if i==0:\n",
    "        break\n",
    "    \n",
    "optimizer.param_groups[0]['params']\n"
   ]
  }
 ],
 "metadata": {
  "kernelspec": {
   "display_name": "env02",
   "language": "python",
   "name": "python3"
  },
  "language_info": {
   "codemirror_mode": {
    "name": "ipython",
    "version": 3
   },
   "file_extension": ".py",
   "mimetype": "text/x-python",
   "name": "python",
   "nbconvert_exporter": "python",
   "pygments_lexer": "ipython3",
   "version": "3.11.10"
  }
 },
 "nbformat": 4,
 "nbformat_minor": 2
}
